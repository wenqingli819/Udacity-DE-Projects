{
 "cells": [
  {
   "cell_type": "markdown",
   "metadata": {},
   "source": [
    "# Part I. ETL Pipeline for Pre-Processing the Files"
   ]
  },
  {
   "cell_type": "markdown",
   "metadata": {},
   "source": [
    "## PLEASE RUN THE FOLLOWING CODE FOR PRE-PROCESSING THE FILES"
   ]
  },
  {
   "cell_type": "markdown",
   "metadata": {},
   "source": [
    "#### Import Python packages "
   ]
  },
  {
   "cell_type": "code",
   "execution_count": 5,
   "metadata": {},
   "outputs": [],
   "source": [
    "import pandas as pd\n",
    "from cassandra.cluster import Cluster\n",
    "import re\n",
    "import os\n",
    "import glob\n",
    "import numpy as np\n",
    "import json\n",
    "import csv"
   ]
  },
  {
   "cell_type": "markdown",
   "metadata": {},
   "source": [
    "#### Creating list of filepaths to process original event csv data files"
   ]
  },
  {
   "cell_type": "code",
   "execution_count": 7,
   "metadata": {},
   "outputs": [
    {
     "output_type": "stream",
     "name": "stdout",
     "text": "/Users/babydeveloper/Downloads/udacity/data_engineering_nano/project_2\n['/Users/babydeveloper/Downloads/udacity/data_engineering_nano/project_2/event_data/2018-11-15-events.csv', '/Users/babydeveloper/Downloads/udacity/data_engineering_nano/project_2/event_data/2018-11-22-events.csv', '/Users/babydeveloper/Downloads/udacity/data_engineering_nano/project_2/event_data/2018-11-09-events.csv', '/Users/babydeveloper/Downloads/udacity/data_engineering_nano/project_2/event_data/2018-11-18-events.csv', '/Users/babydeveloper/Downloads/udacity/data_engineering_nano/project_2/event_data/2018-11-04-events.csv', '/Users/babydeveloper/Downloads/udacity/data_engineering_nano/project_2/event_data/2018-11-01-events.csv', '/Users/babydeveloper/Downloads/udacity/data_engineering_nano/project_2/event_data/2018-11-27-events.csv', '/Users/babydeveloper/Downloads/udacity/data_engineering_nano/project_2/event_data/2018-11-10-events.csv', '/Users/babydeveloper/Downloads/udacity/data_engineering_nano/project_2/event_data/2018-11-20-events.csv', '/Users/babydeveloper/Downloads/udacity/data_engineering_nano/project_2/event_data/2018-11-17-events.csv', '/Users/babydeveloper/Downloads/udacity/data_engineering_nano/project_2/event_data/2018-11-06-events.csv', '/Users/babydeveloper/Downloads/udacity/data_engineering_nano/project_2/event_data/2018-11-03-events.csv', '/Users/babydeveloper/Downloads/udacity/data_engineering_nano/project_2/event_data/2018-11-28-events.csv', '/Users/babydeveloper/Downloads/udacity/data_engineering_nano/project_2/event_data/2018-11-12-events.csv', '/Users/babydeveloper/Downloads/udacity/data_engineering_nano/project_2/event_data/2018-11-25-events.csv', '/Users/babydeveloper/Downloads/udacity/data_engineering_nano/project_2/event_data/2018-11-26-events.csv', '/Users/babydeveloper/Downloads/udacity/data_engineering_nano/project_2/event_data/2018-11-11-events.csv', '/Users/babydeveloper/Downloads/udacity/data_engineering_nano/project_2/event_data/2018-11-14-events.csv', '/Users/babydeveloper/Downloads/udacity/data_engineering_nano/project_2/event_data/2018-11-23-events.csv', '/Users/babydeveloper/Downloads/udacity/data_engineering_nano/project_2/event_data/2018-11-08-events.csv', '/Users/babydeveloper/Downloads/udacity/data_engineering_nano/project_2/event_data/2018-11-19-events.csv', '/Users/babydeveloper/Downloads/udacity/data_engineering_nano/project_2/event_data/2018-11-05-events.csv', '/Users/babydeveloper/Downloads/udacity/data_engineering_nano/project_2/event_data/2018-11-02-events.csv', '/Users/babydeveloper/Downloads/udacity/data_engineering_nano/project_2/event_data/2018-11-29-events.csv', '/Users/babydeveloper/Downloads/udacity/data_engineering_nano/project_2/event_data/2018-11-13-events.csv', '/Users/babydeveloper/Downloads/udacity/data_engineering_nano/project_2/event_data/2018-11-24-events.csv', '/Users/babydeveloper/Downloads/udacity/data_engineering_nano/project_2/event_data/2018-11-21-events.csv', '/Users/babydeveloper/Downloads/udacity/data_engineering_nano/project_2/event_data/2018-11-16-events.csv', '/Users/babydeveloper/Downloads/udacity/data_engineering_nano/project_2/event_data/2018-11-07-events.csv', '/Users/babydeveloper/Downloads/udacity/data_engineering_nano/project_2/event_data/2018-11-30-events.csv']\n"
    }
   ],
   "source": [
    "# checking current working directory\n",
    "print(os.getcwd())\n",
    "\n",
    "# Get current folder and subfolder event data\n",
    "filepath = os.getcwd() + '/event_data'\n",
    "\n",
    "# Create a for loop to create a list of files and collect each filepath\n",
    "for root, dirs, files in os.walk(filepath):\n",
    "    \n",
    "# join the file path and roots with the subdirectories using glob\n",
    "    file_path_list = glob.glob(os.path.join(root,'*'))\n",
    "    # print(file_path_list)"
   ]
  },
  {
   "cell_type": "markdown",
   "metadata": {},
   "source": [
    "#### Processing the files to create the data file csv that will be used for Apache Casssandra tables"
   ]
  },
  {
   "cell_type": "code",
   "execution_count": 13,
   "metadata": {
    "tags": [
     "outputPrepend"
    ]
   },
   "outputs": [
    {
     "output_type": "stream",
     "name": "stdout",
     "text": "8056\n['The Prodigy', 'Logged In', 'Ryan', 'M', '1', 'Smith', '260.07465', 'free', 'San Jose-Sunnyvale-Santa Clara, CA', 'PUT', 'NextSong', '1.54102E+12', '583', 'The Big Gundown', '200', '1.54224E+12', '26']\n"
    }
   ],
   "source": [
    "# initiating an empty list of rows that will be generated from each file\n",
    "full_data_rows_list = [] \n",
    "    \n",
    "# for every filepath in the file path list \n",
    "for f in file_path_list:\n",
    "\n",
    "# reading csv file \n",
    "    with open(f, 'r', encoding = 'utf8', newline='') as csvfile: \n",
    "        # creating a csv reader object \n",
    "        csvreader = csv.reader(csvfile) \n",
    "        next(csvreader)\n",
    "        \n",
    " # extracting each data row one by one and append it        \n",
    "        for line in csvreader:\n",
    "            #print(line)\n",
    "            full_data_rows_list.append(line) \n",
    "            \n",
    "# check data\n",
    "print(len(full_data_rows_list))\n",
    "print(full_data_rows_list[1])\n",
    "\n",
    "# creating a smaller event data csv file called event_datafile_full csv that will be used to insert data into the \\\n",
    "# Apache Cassandra tables\n",
    "csv.register_dialect('myDialect', quoting=csv.QUOTE_ALL, skipinitialspace=True)\n",
    "\n",
    "with open('event_datafile_new.csv', 'w', encoding = 'utf8', newline='') as f:\n",
    "    writer = csv.writer(f, dialect='myDialect')\n",
    "    writer.writerow(['artist','firstName','gender','itemInSession','lastName','length',\\\n",
    "                'level','location','sessionId','song','userId'])\n",
    "    for row in full_data_rows_list:\n",
    "        if (row[0] == ''):\n",
    "            continue\n",
    "        writer.writerow((row[0], row[2], row[3], row[4], row[5], row[6], row[7], row[8], row[12], row[13], row[16]))\n"
   ]
  },
  {
   "cell_type": "code",
   "execution_count": 14,
   "metadata": {},
   "outputs": [
    {
     "output_type": "stream",
     "name": "stdout",
     "text": "6821\n"
    }
   ],
   "source": [
    "# check the number of rows in your csv file\n",
    "with open('event_datafile_new.csv', 'r', encoding = 'utf8') as f:\n",
    "    print(sum(1 for line in f))"
   ]
  },
  {
   "cell_type": "markdown",
   "metadata": {},
   "source": [
    "# Part II. Complete the Apache Cassandra coding portion of your project. \n",
    "\n",
    "## Now you are ready to work with the CSV file titled <font color=red>event_datafile_new.csv</font>, located within the Workspace directory.  The event_datafile_new.csv contains the following columns: \n",
    "- artist \n",
    "- firstName of user\n",
    "- gender of user\n",
    "- item number in session\n",
    "- last name of user\n",
    "- length of the song\n",
    "- level (paid or free song)\n",
    "- location of the user\n",
    "- sessionId\n",
    "- song title\n",
    "- userId\n",
    "\n",
    "The image below is a screenshot of what the denormalized data should appear like in the <font color=red>**event_datafile_new.csv**</font> after the code above is run:<br>\n",
    "\n",
    "<img src=\"image_event_datafile_new.jpg\">"
   ]
  },
  {
   "cell_type": "markdown",
   "metadata": {},
   "source": [
    "## Begin writing your Apache Cassandra code in the cells below"
   ]
  },
  {
   "cell_type": "markdown",
   "metadata": {},
   "source": [
    "#### Creating a Cluster"
   ]
  },
  {
   "cell_type": "code",
   "execution_count": 28,
   "metadata": {},
   "outputs": [
    {
     "output_type": "error",
     "ename": "NoHostAvailable",
     "evalue": "('Unable to connect to any servers', {'127.0.0.1:9042': ConnectionRefusedError(61, \"Tried connecting to [('127.0.0.1', 9042)]. Last error: Connection refused\")})",
     "traceback": [
      "\u001b[0;31m---------------------------------------------------------------------------\u001b[0m",
      "\u001b[0;31mNoHostAvailable\u001b[0m                           Traceback (most recent call last)",
      "\u001b[0;32m<ipython-input-28-6fb3c41600b8>\u001b[0m in \u001b[0;36m<module>\u001b[0;34m\u001b[0m\n\u001b[1;32m      6\u001b[0m \u001b[0;34m\u001b[0m\u001b[0m\n\u001b[1;32m      7\u001b[0m \u001b[0;31m# To establish connection and begin executing queries, need a session\u001b[0m\u001b[0;34m\u001b[0m\u001b[0;34m\u001b[0m\u001b[0;34m\u001b[0m\u001b[0m\n\u001b[0;32m----> 8\u001b[0;31m \u001b[0msession\u001b[0m \u001b[0;34m=\u001b[0m \u001b[0mcluster\u001b[0m\u001b[0;34m.\u001b[0m\u001b[0mconnect\u001b[0m\u001b[0;34m(\u001b[0m\u001b[0;34m)\u001b[0m\u001b[0;34m\u001b[0m\u001b[0;34m\u001b[0m\u001b[0m\n\u001b[0m",
      "\u001b[0;32m//anaconda3/lib/python3.7/site-packages/cassandra/cluster.cpython-37m-darwin.so\u001b[0m in \u001b[0;36mcassandra.cluster.Cluster.connect\u001b[0;34m()\u001b[0m\n",
      "\u001b[0;32m//anaconda3/lib/python3.7/site-packages/cassandra/cluster.cpython-37m-darwin.so\u001b[0m in \u001b[0;36mcassandra.cluster.Cluster.connect\u001b[0;34m()\u001b[0m\n",
      "\u001b[0;32m//anaconda3/lib/python3.7/site-packages/cassandra/cluster.cpython-37m-darwin.so\u001b[0m in \u001b[0;36mcassandra.cluster.Cluster.connect\u001b[0;34m()\u001b[0m\n",
      "\u001b[0;32m//anaconda3/lib/python3.7/site-packages/cassandra/cluster.cpython-37m-darwin.so\u001b[0m in \u001b[0;36mcassandra.cluster.ControlConnection.connect\u001b[0;34m()\u001b[0m\n",
      "\u001b[0;32m//anaconda3/lib/python3.7/site-packages/cassandra/cluster.cpython-37m-darwin.so\u001b[0m in \u001b[0;36mcassandra.cluster.ControlConnection._reconnect_internal\u001b[0;34m()\u001b[0m\n",
      "\u001b[0;31mNoHostAvailable\u001b[0m: ('Unable to connect to any servers', {'127.0.0.1:9042': ConnectionRefusedError(61, \"Tried connecting to [('127.0.0.1', 9042)]. Last error: Connection refused\")})"
     ]
    }
   ],
   "source": [
    "# This should make a connection to a Cassandra instance your local machine \n",
    "# (127.0.0.1)\n",
    "\n",
    "from cassandra.cluster import Cluster\n",
    "cluster = Cluster()\n",
    "\n",
    "# To establish connection and begin executing queries, need a session\n",
    "session = cluster.connect()"
   ]
  },
  {
   "cell_type": "markdown",
   "metadata": {},
   "source": [
    "#### Create Keyspace"
   ]
  },
  {
   "cell_type": "code",
   "execution_count": null,
   "metadata": {},
   "outputs": [],
   "source": [
    "# TO-DO: Create a Keyspace "
   ]
  },
  {
   "cell_type": "markdown",
   "metadata": {},
   "source": [
    "#### Set Keyspace"
   ]
  },
  {
   "cell_type": "code",
   "execution_count": null,
   "metadata": {},
   "outputs": [],
   "source": [
    "# TO-DO: Set KEYSPACE to the keyspace specified above\n"
   ]
  },
  {
   "cell_type": "markdown",
   "metadata": {},
   "source": [
    "## Create queries to ask the following three questions of the data\n",
    "\n",
    "### 1. Give me the artist, song title and song's length in the music app history that was heard during  sessionId = 338, and itemInSession  = 4\n",
    "\n",
    "\n",
    "### 2. Give me only the following: name of artist, song (sorted by itemInSession) and user (first and last name) for userid = 10, sessionid = 182\n",
    "    \n",
    "\n",
    "### 3. Give me every user name (first and last) in my music app history who listened to the song 'All Hands Against His Own'\n",
    "\n",
    "\n"
   ]
  },
  {
   "cell_type": "code",
   "execution_count": 1,
   "metadata": {},
   "outputs": [],
   "source": [
    "## TO-DO: Query 1:  Give me the artist, song title and song's length in the music app history that was heard during \\\n",
    "## sessionId = 338, and itemInSession = 4\n",
    "\n",
    "\n",
    "                    "
   ]
  },
  {
   "cell_type": "code",
   "execution_count": null,
   "metadata": {
    "scrolled": false
   },
   "outputs": [],
   "source": [
    "# We have provided part of the code to set up the CSV file. Please complete the Apache Cassandra code below#\n",
    "file = 'event_datafile_new.csv'\n",
    "\n",
    "with open(file, encoding = 'utf8') as f:\n",
    "    csvreader = csv.reader(f)\n",
    "    next(csvreader) # skip header\n",
    "    for line in csvreader:\n",
    "## TO-DO: Assign the INSERT statements into the `query` variable\n",
    "        query = \"<ENTER INSERT STATEMENT HERE>\"\n",
    "        query = query + \"<ASSIGN VALUES HERE>\"\n",
    "        ## TO-DO: Assign which column element should be assigned for each column in the INSERT statement.\n",
    "        ## For e.g., to INSERT artist_name and user first_name, you would change the code below to `line[0], line[1]`\n",
    "        session.execute(query, (line[#], line[#]))"
   ]
  },
  {
   "cell_type": "markdown",
   "metadata": {},
   "source": [
    "#### Do a SELECT to verify that the data have been inserted into each table"
   ]
  },
  {
   "cell_type": "code",
   "execution_count": null,
   "metadata": {
    "scrolled": true
   },
   "outputs": [],
   "source": [
    "## TO-DO: Add in the SELECT statement to verify the data was entered into the table"
   ]
  },
  {
   "cell_type": "markdown",
   "metadata": {},
   "source": [
    "### COPY AND REPEAT THE ABOVE THREE CELLS FOR EACH OF THE THREE QUESTIONS"
   ]
  },
  {
   "cell_type": "code",
   "execution_count": null,
   "metadata": {},
   "outputs": [],
   "source": [
    "## TO-DO: Query 2: Give me only the following: name of artist, song (sorted by itemInSession) and user (first and last name)\\\n",
    "## for userid = 10, sessionid = 182\n",
    "\n",
    "\n",
    "                    "
   ]
  },
  {
   "cell_type": "code",
   "execution_count": null,
   "metadata": {},
   "outputs": [],
   "source": [
    "## TO-DO: Query 3: Give me every user name (first and last) in my music app history who listened to the song 'All Hands Against His Own'\n",
    "\n",
    "\n",
    "                    "
   ]
  },
  {
   "cell_type": "code",
   "execution_count": null,
   "metadata": {},
   "outputs": [],
   "source": []
  },
  {
   "cell_type": "code",
   "execution_count": null,
   "metadata": {},
   "outputs": [],
   "source": []
  },
  {
   "cell_type": "markdown",
   "metadata": {},
   "source": [
    "### Drop the tables before closing out the sessions"
   ]
  },
  {
   "cell_type": "code",
   "execution_count": 4,
   "metadata": {},
   "outputs": [],
   "source": [
    "## TO-DO: Drop the table before closing out the sessions"
   ]
  },
  {
   "cell_type": "code",
   "execution_count": null,
   "metadata": {},
   "outputs": [],
   "source": []
  },
  {
   "cell_type": "markdown",
   "metadata": {},
   "source": [
    "### Close the session and cluster connection¶"
   ]
  },
  {
   "cell_type": "code",
   "execution_count": null,
   "metadata": {},
   "outputs": [],
   "source": [
    "session.shutdown()\n",
    "cluster.shutdown()"
   ]
  },
  {
   "cell_type": "code",
   "execution_count": null,
   "metadata": {},
   "outputs": [],
   "source": []
  },
  {
   "cell_type": "code",
   "execution_count": null,
   "metadata": {},
   "outputs": [],
   "source": []
  }
 ],
 "metadata": {
  "kernelspec": {
   "display_name": "Python 3",
   "language": "python",
   "name": "python3"
  },
  "language_info": {
   "codemirror_mode": {
    "name": "ipython",
    "version": 3
   },
   "file_extension": ".py",
   "mimetype": "text/x-python",
   "name": "python",
   "nbconvert_exporter": "python",
   "pygments_lexer": "ipython3",
   "version": "3.7.7-final"
  }
 },
 "nbformat": 4,
 "nbformat_minor": 2
}