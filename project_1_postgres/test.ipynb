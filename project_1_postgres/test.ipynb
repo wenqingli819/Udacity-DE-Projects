{
 "cells": [
  {
   "cell_type": "code",
   "execution_count": 2,
   "metadata": {},
   "outputs": [],
   "source": [
    "%load_ext sql"
   ]
  },
  {
   "cell_type": "code",
   "execution_count": 3,
   "metadata": {},
   "outputs": [
    {
     "output_type": "execute_result",
     "data": {
      "text/plain": "'Connected: @sparkify'"
     },
     "metadata": {},
     "execution_count": 3
    }
   ],
   "source": [
    "%sql postgresql://localhost/sparkify?user=vic&password=pysql@20"
   ]
  },
  {
   "cell_type": "code",
   "execution_count": 4,
   "metadata": {},
   "outputs": [
    {
     "output_type": "stream",
     "name": "stdout",
     "text": "* postgresql://localhost/sparkify?password=pysql@20&user=vic\n1 rows affected.\n"
    },
    {
     "output_type": "execute_result",
     "data": {
      "text/plain": "[(94, datetime.datetime(2018, 11, 11, 23, 42, 28, 796000), 26, 'free', None, None, 480, 'San Jose-Sunnyvale-Santa Clara, CA', '\"Mozilla/5.0 (X11; Linux x86_64) AppleWebKit/537.36 (KHTML, like Gecko) Ubuntu Chromium/36.0.1985.125 Chrome/36.0.1985.125 Safari/537.36\"')]",
      "text/html": "<table>\n    <tr>\n        <th>songplay_id</th>\n        <th>start_time</th>\n        <th>user_id</th>\n        <th>level</th>\n        <th>artist_id</th>\n        <th>song_id</th>\n        <th>session_id</th>\n        <th>location</th>\n        <th>user_agent</th>\n    </tr>\n    <tr>\n        <td>94</td>\n        <td>2018-11-11 23:42:28.796000</td>\n        <td>26</td>\n        <td>free</td>\n        <td>None</td>\n        <td>None</td>\n        <td>480</td>\n        <td>San Jose-Sunnyvale-Santa Clara, CA</td>\n        <td>&quot;Mozilla/5.0 (X11; Linux x86_64) AppleWebKit/537.36 (KHTML, like Gecko) Ubuntu Chromium/36.0.1985.125 Chrome/36.0.1985.125 Safari/537.36&quot;</td>\n    </tr>\n</table>"
     },
     "metadata": {},
     "execution_count": 4
    }
   ],
   "source": [
    "%sql SELECT * FROM songplays LIMIT 5;"
   ]
  },
  {
   "cell_type": "code",
   "execution_count": 7,
   "metadata": {},
   "outputs": [
    {
     "output_type": "stream",
     "name": "stdout",
     "text": "* postgresql://localhost/sparkify?password=pysql@20&user=vic\n5 rows affected.\n"
    },
    {
     "output_type": "execute_result",
     "data": {
      "text/plain": "[(69, 'Anabelle', 'Simpson', 'F', 'free'),\n (32, 'Lily', 'Burns', 'F', 'free'),\n (75, 'Joseph', 'Gutierrez', 'M', 'free'),\n (92, 'Ryann', 'Smith', 'F', 'free'),\n (49, 'Chloe', 'Cuevas', 'F', 'free')]",
      "text/html": "<table>\n    <tr>\n        <th>user_id</th>\n        <th>first_name</th>\n        <th>last_name</th>\n        <th>gender</th>\n        <th>level</th>\n    </tr>\n    <tr>\n        <td>69</td>\n        <td>Anabelle</td>\n        <td>Simpson</td>\n        <td>F</td>\n        <td>free</td>\n    </tr>\n    <tr>\n        <td>32</td>\n        <td>Lily</td>\n        <td>Burns</td>\n        <td>F</td>\n        <td>free</td>\n    </tr>\n    <tr>\n        <td>75</td>\n        <td>Joseph</td>\n        <td>Gutierrez</td>\n        <td>M</td>\n        <td>free</td>\n    </tr>\n    <tr>\n        <td>92</td>\n        <td>Ryann</td>\n        <td>Smith</td>\n        <td>F</td>\n        <td>free</td>\n    </tr>\n    <tr>\n        <td>49</td>\n        <td>Chloe</td>\n        <td>Cuevas</td>\n        <td>F</td>\n        <td>free</td>\n    </tr>\n</table>"
     },
     "metadata": {},
     "execution_count": 7
    }
   ],
   "source": [
    "%sql SELECT * FROM users LIMIT 5;"
   ]
  },
  {
   "cell_type": "code",
   "execution_count": 8,
   "metadata": {},
   "outputs": [
    {
     "output_type": "stream",
     "name": "stdout",
     "text": "* postgresql://localhost/sparkify?password=pysql@20&user=vic\n1 rows affected.\n"
    },
    {
     "output_type": "execute_result",
     "data": {
      "text/plain": "[('SONHOTT12A8C13493C', 'Something Girls', 'AR7G5I41187FB4CE6C', 1982, 233.40363)]",
      "text/html": "<table>\n    <tr>\n        <th>song_id</th>\n        <th>title</th>\n        <th>artist_id</th>\n        <th>year</th>\n        <th>duration</th>\n    </tr>\n    <tr>\n        <td>SONHOTT12A8C13493C</td>\n        <td>Something Girls</td>\n        <td>AR7G5I41187FB4CE6C</td>\n        <td>1982</td>\n        <td>233.40363</td>\n    </tr>\n</table>"
     },
     "metadata": {},
     "execution_count": 8
    }
   ],
   "source": [
    "%sql SELECT * FROM songs LIMIT 5;"
   ]
  },
  {
   "cell_type": "code",
   "execution_count": 5,
   "metadata": {},
   "outputs": [
    {
     "output_type": "stream",
     "name": "stdout",
     "text": "* postgresql://localhost/sparkify?password=pysql@20&user=vic\n1 rows affected.\n"
    },
    {
     "output_type": "execute_result",
     "data": {
      "text/plain": "[('AR7G5I41187FB4CE6C', 'Adam Ant', 'London, England', nan, nan)]",
      "text/html": "<table>\n    <tr>\n        <th>artist_id</th>\n        <th>name</th>\n        <th>location</th>\n        <th>latitude</th>\n        <th>longitude</th>\n    </tr>\n    <tr>\n        <td>AR7G5I41187FB4CE6C</td>\n        <td>Adam Ant</td>\n        <td>London, England</td>\n        <td>nan</td>\n        <td>nan</td>\n    </tr>\n</table>"
     },
     "metadata": {},
     "execution_count": 5
    }
   ],
   "source": [
    "%sql SELECT * FROM artists LIMIT 5;"
   ]
  },
  {
   "cell_type": "code",
   "execution_count": 15,
   "metadata": {},
   "outputs": [
    {
     "output_type": "stream",
     "name": "stdout",
     "text": "* postgresql://localhost/sparkify?password=pysql@20&user=vic\n0 rows affected.\n"
    },
    {
     "output_type": "execute_result",
     "data": {
      "text/plain": "[]",
      "text/html": "<table>\n    <tr>\n        <th>start_time</th>\n        <th>hour</th>\n        <th>day</th>\n        <th>week</th>\n        <th>month</th>\n        <th>year</th>\n        <th>weekday</th>\n    </tr>\n</table>"
     },
     "metadata": {},
     "execution_count": 15
    }
   ],
   "source": [
    "%sql SELECT * FROM time LIMIT 5;"
   ]
  },
  {
   "cell_type": "markdown",
   "metadata": {},
   "source": [
    "## REMEMBER: Restart this notebook to close connection to `sparkifydb`\n",
    "Each time you run the cells above, remember to restart this notebook to close the connection to your database. Otherwise, you won't be able to run your code in `create_tables.py`, `etl.py`, or `etl.ipynb` files since you can't make multiple connections to the same database (in this case, sparkifydb)."
   ]
  },
  {
   "cell_type": "code",
   "execution_count": null,
   "metadata": {},
   "outputs": [],
   "source": []
  }
 ],
 "metadata": {
  "kernelspec": {
   "display_name": "Python 3",
   "language": "python",
   "name": "python3"
  },
  "language_info": {
   "codemirror_mode": {
    "name": "ipython",
    "version": 3
   },
   "file_extension": ".py",
   "mimetype": "text/x-python",
   "name": "python",
   "nbconvert_exporter": "python",
   "pygments_lexer": "ipython3",
   "version": "3.7.7-final"
  }
 },
 "nbformat": 4,
 "nbformat_minor": 2
}